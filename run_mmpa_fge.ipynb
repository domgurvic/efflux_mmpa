{
 "cells": [
  {
   "cell_type": "code",
   "execution_count": 1,
   "id": "20554643-8770-4252-a556-1d4bbf7583d8",
   "metadata": {},
   "outputs": [
    {
     "name": "stderr",
     "output_type": "stream",
     "text": [
      "RDKit WARNING: [17:26:22] Enabling RDKit 2019.09.2 jupyter extensions\n"
     ]
    }
   ],
   "source": [
    "from ml_mmpa import master_functions\n",
    "import pandas as pd"
   ]
  },
  {
   "cell_type": "code",
   "execution_count": 2,
   "id": "385a7ca9-2a93-486d-8a48-438b367d6712",
   "metadata": {
    "jp-MarkdownHeadingCollapsed": true,
    "tags": []
   },
   "outputs": [],
   "source": [
    "# carry out mmpa\n",
    "\n",
    "# clean mmpa\n",
    "    # first step is making sure the length of the core is longer (more heavy atoms) than either of the transform hands\n",
    "    # Second step is finding unique transforms and calculating paired t-test\n",
    "    # Third step is filtering p-val based on thresold and deciding weather to keep both positive and negative transforms\n",
    "    \n",
    "# prodcue functions for mmpa\n",
    "# summarise results in a table"
   ]
  },
  {
   "cell_type": "markdown",
   "id": "5a2c5a54-fd3f-4d4f-9c14-94344edcdc8d",
   "metadata": {},
   "source": [
    "### MMPA"
   ]
  },
  {
   "cell_type": "code",
   "execution_count": 3,
   "id": "7c3d5fb2-4b59-44a0-b484-33d11aac9c37",
   "metadata": {},
   "outputs": [
    {
     "name": "stdout",
     "output_type": "stream",
     "text": [
      "-f\n"
     ]
    }
   ],
   "source": [
    "import sys\n",
    "\n",
    "def abc(xyz):\n",
    "    print(xyz)\n",
    "\n",
    "if __name__ == \"__main__\":\n",
    "    abc(sys.argv[1])"
   ]
  },
  {
   "cell_type": "code",
   "execution_count": 4,
   "id": "b25d3a89-4bc1-4021-9f81-fc7a6ffc7839",
   "metadata": {
    "tags": []
   },
   "outputs": [],
   "source": [
    "# in the console run: \n",
    "\n",
    "# ! ./ml_mmpa/master_mmpa.sh data/efflux_mmpa.csv efflux;\n",
    "\n",
    "# it will result in new items in the 'out' folder.\n"
   ]
  },
  {
   "cell_type": "code",
   "execution_count": 5,
   "id": "c4a21aec-37d1-4529-9026-70b9e47d325f",
   "metadata": {},
   "outputs": [],
   "source": [
    "# Next we process that output:\n",
    "\n",
    "output = pd.read_csv('out/index_efflux_final.csv')"
   ]
  },
  {
   "cell_type": "code",
   "execution_count": 6,
   "id": "eaf074ce-aaa8-4630-be2d-92f6f752b6eb",
   "metadata": {
    "collapsed": true,
    "jupyter": {
     "outputs_hidden": true
    },
    "tags": []
   },
   "outputs": [
    {
     "data": {
      "text/html": [
       "<div>\n",
       "<style scoped>\n",
       "    .dataframe tbody tr th:only-of-type {\n",
       "        vertical-align: middle;\n",
       "    }\n",
       "\n",
       "    .dataframe tbody tr th {\n",
       "        vertical-align: top;\n",
       "    }\n",
       "\n",
       "    .dataframe thead th {\n",
       "        text-align: right;\n",
       "    }\n",
       "</style>\n",
       "<table border=\"1\" class=\"dataframe\">\n",
       "  <thead>\n",
       "    <tr style=\"text-align: right;\">\n",
       "      <th></th>\n",
       "      <th>compound_structure_A</th>\n",
       "      <th>compound_structure_B</th>\n",
       "      <th>idsmiles_A</th>\n",
       "      <th>idsmiles_B</th>\n",
       "      <th>smirks</th>\n",
       "      <th>common_core</th>\n",
       "      <th>measurement_A</th>\n",
       "      <th>measurement_B</th>\n",
       "      <th>measurement_delta</th>\n",
       "      <th>LHS</th>\n",
       "      <th>RHS</th>\n",
       "    </tr>\n",
       "  </thead>\n",
       "  <tbody>\n",
       "    <tr>\n",
       "      <th>0</th>\n",
       "      <td>CN\\C(NCCSCc1ccc(CN(C)C)o1)=C/[N+]([O-])=O.Cl</td>\n",
       "      <td>CN\\C(NCCSCc1csc(CN(C)C)n1)=C/[N+]([O-])=O</td>\n",
       "      <td>9393</td>\n",
       "      <td>20542</td>\n",
       "      <td>[*:1]NCCSCc1ccc([*:2])o1&gt;&gt;[*:1]NCCSCc1csc([*:2...</td>\n",
       "      <td>[*:1]/C(=C/[N+](=O)[O-])NC.[*:2]CN(C)C</td>\n",
       "      <td>16.52</td>\n",
       "      <td>6.05</td>\n",
       "      <td>-10.47</td>\n",
       "      <td>[*:1]NCCSCc1ccc([*:2])o1</td>\n",
       "      <td>[*:1]NCCSCc1csc([*:2])n1</td>\n",
       "    </tr>\n",
       "    <tr>\n",
       "      <th>1</th>\n",
       "      <td>C(=C/c(cc1)ccc1F)(/NC(c2ccccc2)=O)\\C(=O)OC(C)C</td>\n",
       "      <td>C(=C\\c(cc1)ccc1F)(/C(OCC)=O)\\NC(c2ccccc2)=O</td>\n",
       "      <td>17912</td>\n",
       "      <td>44948</td>\n",
       "      <td>[*:1]C(=O)OC(C)C&gt;&gt;[*:1]C(=O)OCC</td>\n",
       "      <td>[*:1]/C(=C/c1ccc(F)cc1)NC(=O)c1ccccc1</td>\n",
       "      <td>6.67</td>\n",
       "      <td>2.79</td>\n",
       "      <td>-3.88</td>\n",
       "      <td>[*:1]C(=O)OC(C)C</td>\n",
       "      <td>[*:1]C(=O)OCC</td>\n",
       "    </tr>\n",
       "    <tr>\n",
       "      <th>2</th>\n",
       "      <td>C(=C/c(cc1)ccc1F)(/NC(C)=O)\\C(=O)NC(C(C)C)C(O)=O</td>\n",
       "      <td>C(=C/c(cc1)ccc1F)(/NC(C)=O)\\C(OCC)=O</td>\n",
       "      <td>47259</td>\n",
       "      <td>23556</td>\n",
       "      <td>[*:1]C(=O)NC(C(=O)O)C(C)C&gt;&gt;[*:1]C(=O)OCC</td>\n",
       "      <td>[*:1]/C(=C/c1ccc(F)cc1)NC(C)=O</td>\n",
       "      <td>-1.58</td>\n",
       "      <td>5.93</td>\n",
       "      <td>7.51</td>\n",
       "      <td>[*:1]C(=O)NC(C(=O)O)C(C)C</td>\n",
       "      <td>[*:1]C(=O)OCC</td>\n",
       "    </tr>\n",
       "    <tr>\n",
       "      <th>3</th>\n",
       "      <td>C(=C\\c(cc1)cc(c1OC(C)=O)OC)(/C(NCC=C)=O)\\NC(c2...</td>\n",
       "      <td>C(=C\\c(cc1)cc(c1OC(C)=O)OC)(/C(=O)NCc2ccccc2)\\...</td>\n",
       "      <td>10564</td>\n",
       "      <td>9068</td>\n",
       "      <td>[*:1]C(=O)NCC=C&gt;&gt;[*:1]C(=O)NCc1ccccc1</td>\n",
       "      <td>[*:1]/C(=C/c1ccc(OC(C)=O)c(OC)c1)NC(=O)c1ccccc1</td>\n",
       "      <td>6.09</td>\n",
       "      <td>18.06</td>\n",
       "      <td>11.97</td>\n",
       "      <td>[*:1]C(=O)NCC=C</td>\n",
       "      <td>[*:1]C(=O)NCc1ccccc1</td>\n",
       "    </tr>\n",
       "    <tr>\n",
       "      <th>4</th>\n",
       "      <td>C(=C\\c(cc1)cc(c1OC(C)=O)OC)(/C(=O)NCc2ccccc2)\\...</td>\n",
       "      <td>C(=C/c(cc1)cc(c1OC(C)=O)OC)(/NC(c2ccccc2)=O)\\C...</td>\n",
       "      <td>9068</td>\n",
       "      <td>25097</td>\n",
       "      <td>[*:1]C(=O)NCc1ccccc1&gt;&gt;[*:1]C(=O)Nc1ccccc1C</td>\n",
       "      <td>[*:1]/C(=C/c1ccc(OC(C)=O)c(OC)c1)NC(=O)c1ccccc1</td>\n",
       "      <td>18.06</td>\n",
       "      <td>13.22</td>\n",
       "      <td>-4.84</td>\n",
       "      <td>[*:1]C(=O)NCc1ccccc1</td>\n",
       "      <td>[*:1]C(=O)Nc1ccccc1C</td>\n",
       "    </tr>\n",
       "    <tr>\n",
       "      <th>...</th>\n",
       "      <td>...</td>\n",
       "      <td>...</td>\n",
       "      <td>...</td>\n",
       "      <td>...</td>\n",
       "      <td>...</td>\n",
       "      <td>...</td>\n",
       "      <td>...</td>\n",
       "      <td>...</td>\n",
       "      <td>...</td>\n",
       "      <td>...</td>\n",
       "      <td>...</td>\n",
       "    </tr>\n",
       "    <tr>\n",
       "      <th>827187</th>\n",
       "      <td>N1(Cc2ccccc2)Sc3c(ccc(c3)[N+](=O)[O-])C1=O</td>\n",
       "      <td>N1(c2ccccc2)Sc3c(ccc(c3)[N+](=O)[O-])C1=O</td>\n",
       "      <td>26921</td>\n",
       "      <td>6632</td>\n",
       "      <td>[*:1]Cc1ccccc1&gt;&gt;[*:1]c1ccccc1</td>\n",
       "      <td>[*:1]n1sc2cc([N+](=O)[O-])ccc2c1=O</td>\n",
       "      <td>8.97</td>\n",
       "      <td>8.72</td>\n",
       "      <td>-0.25</td>\n",
       "      <td>[*:1]Cc1ccccc1</td>\n",
       "      <td>[*:1]c1ccccc1</td>\n",
       "    </tr>\n",
       "    <tr>\n",
       "      <th>827188</th>\n",
       "      <td>N1(c2ccccc2)Sc3c(ccc(c3)[N+](=O)[O-])C1=O</td>\n",
       "      <td>[N+](=O)([O-])c(cc1)cc(c12)SNC2=O</td>\n",
       "      <td>6632</td>\n",
       "      <td>46144</td>\n",
       "      <td>[*:1]c1ccccc1&gt;&gt;[*:1][H]</td>\n",
       "      <td>[*:1]n1sc2cc([N+](=O)[O-])ccc2c1=O</td>\n",
       "      <td>8.72</td>\n",
       "      <td>2.22</td>\n",
       "      <td>-6.50</td>\n",
       "      <td>[*:1]c1ccccc1</td>\n",
       "      <td>[*:1][H]</td>\n",
       "    </tr>\n",
       "    <tr>\n",
       "      <th>827189</th>\n",
       "      <td>C1(=O)N(C)Sc2c1ccc(c2)[N+](=O)[O-]</td>\n",
       "      <td>N1(Cc2ccccc2)Sc3c(ccc(c3)[N+](=O)[O-])C1=O</td>\n",
       "      <td>24593</td>\n",
       "      <td>26921</td>\n",
       "      <td>[*:1]C&gt;&gt;[*:1]Cc1ccccc1</td>\n",
       "      <td>[*:1]n1sc2cc([N+](=O)[O-])ccc2c1=O</td>\n",
       "      <td>25.55</td>\n",
       "      <td>8.97</td>\n",
       "      <td>-16.58</td>\n",
       "      <td>[*:1]C</td>\n",
       "      <td>[*:1]Cc1ccccc1</td>\n",
       "    </tr>\n",
       "    <tr>\n",
       "      <th>827190</th>\n",
       "      <td>C1(=O)N(C)Sc2c1ccc(c2)[N+](=O)[O-]</td>\n",
       "      <td>[N+](=O)([O-])c(cc1)cc(c12)SNC2=O</td>\n",
       "      <td>24593</td>\n",
       "      <td>46144</td>\n",
       "      <td>[*:1]C&gt;&gt;[*:1][H]</td>\n",
       "      <td>[*:1]n1sc2cc([N+](=O)[O-])ccc2c1=O</td>\n",
       "      <td>25.55</td>\n",
       "      <td>2.22</td>\n",
       "      <td>-23.33</td>\n",
       "      <td>[*:1]C</td>\n",
       "      <td>[*:1][H]</td>\n",
       "    </tr>\n",
       "    <tr>\n",
       "      <th>827191</th>\n",
       "      <td>N1(Cc2ccccc2)Sc3c(ccc(c3)[N+](=O)[O-])C1=O</td>\n",
       "      <td>[N+](=O)([O-])c(cc1)cc(c12)SNC2=O</td>\n",
       "      <td>26921</td>\n",
       "      <td>46144</td>\n",
       "      <td>[*:1]Cc1ccccc1&gt;&gt;[*:1][H]</td>\n",
       "      <td>[*:1]n1sc2cc([N+](=O)[O-])ccc2c1=O</td>\n",
       "      <td>8.97</td>\n",
       "      <td>2.22</td>\n",
       "      <td>-6.75</td>\n",
       "      <td>[*:1]Cc1ccccc1</td>\n",
       "      <td>[*:1][H]</td>\n",
       "    </tr>\n",
       "  </tbody>\n",
       "</table>\n",
       "<p>827192 rows × 11 columns</p>\n",
       "</div>"
      ],
      "text/plain": [
       "                                     compound_structure_A  \\\n",
       "0            CN\\C(NCCSCc1ccc(CN(C)C)o1)=C/[N+]([O-])=O.Cl   \n",
       "1          C(=C/c(cc1)ccc1F)(/NC(c2ccccc2)=O)\\C(=O)OC(C)C   \n",
       "2        C(=C/c(cc1)ccc1F)(/NC(C)=O)\\C(=O)NC(C(C)C)C(O)=O   \n",
       "3       C(=C\\c(cc1)cc(c1OC(C)=O)OC)(/C(NCC=C)=O)\\NC(c2...   \n",
       "4       C(=C\\c(cc1)cc(c1OC(C)=O)OC)(/C(=O)NCc2ccccc2)\\...   \n",
       "...                                                   ...   \n",
       "827187         N1(Cc2ccccc2)Sc3c(ccc(c3)[N+](=O)[O-])C1=O   \n",
       "827188          N1(c2ccccc2)Sc3c(ccc(c3)[N+](=O)[O-])C1=O   \n",
       "827189                 C1(=O)N(C)Sc2c1ccc(c2)[N+](=O)[O-]   \n",
       "827190                 C1(=O)N(C)Sc2c1ccc(c2)[N+](=O)[O-]   \n",
       "827191         N1(Cc2ccccc2)Sc3c(ccc(c3)[N+](=O)[O-])C1=O   \n",
       "\n",
       "                                     compound_structure_B  idsmiles_A  \\\n",
       "0               CN\\C(NCCSCc1csc(CN(C)C)n1)=C/[N+]([O-])=O        9393   \n",
       "1             C(=C\\c(cc1)ccc1F)(/C(OCC)=O)\\NC(c2ccccc2)=O       17912   \n",
       "2                    C(=C/c(cc1)ccc1F)(/NC(C)=O)\\C(OCC)=O       47259   \n",
       "3       C(=C\\c(cc1)cc(c1OC(C)=O)OC)(/C(=O)NCc2ccccc2)\\...       10564   \n",
       "4       C(=C/c(cc1)cc(c1OC(C)=O)OC)(/NC(c2ccccc2)=O)\\C...        9068   \n",
       "...                                                   ...         ...   \n",
       "827187          N1(c2ccccc2)Sc3c(ccc(c3)[N+](=O)[O-])C1=O       26921   \n",
       "827188                  [N+](=O)([O-])c(cc1)cc(c12)SNC2=O        6632   \n",
       "827189         N1(Cc2ccccc2)Sc3c(ccc(c3)[N+](=O)[O-])C1=O       24593   \n",
       "827190                  [N+](=O)([O-])c(cc1)cc(c12)SNC2=O       24593   \n",
       "827191                  [N+](=O)([O-])c(cc1)cc(c12)SNC2=O       26921   \n",
       "\n",
       "        idsmiles_B                                             smirks  \\\n",
       "0            20542  [*:1]NCCSCc1ccc([*:2])o1>>[*:1]NCCSCc1csc([*:2...   \n",
       "1            44948                    [*:1]C(=O)OC(C)C>>[*:1]C(=O)OCC   \n",
       "2            23556           [*:1]C(=O)NC(C(=O)O)C(C)C>>[*:1]C(=O)OCC   \n",
       "3             9068              [*:1]C(=O)NCC=C>>[*:1]C(=O)NCc1ccccc1   \n",
       "4            25097         [*:1]C(=O)NCc1ccccc1>>[*:1]C(=O)Nc1ccccc1C   \n",
       "...            ...                                                ...   \n",
       "827187        6632                      [*:1]Cc1ccccc1>>[*:1]c1ccccc1   \n",
       "827188       46144                            [*:1]c1ccccc1>>[*:1][H]   \n",
       "827189       26921                             [*:1]C>>[*:1]Cc1ccccc1   \n",
       "827190       46144                                   [*:1]C>>[*:1][H]   \n",
       "827191       46144                           [*:1]Cc1ccccc1>>[*:1][H]   \n",
       "\n",
       "                                            common_core  measurement_A  \\\n",
       "0                [*:1]/C(=C/[N+](=O)[O-])NC.[*:2]CN(C)C          16.52   \n",
       "1                 [*:1]/C(=C/c1ccc(F)cc1)NC(=O)c1ccccc1           6.67   \n",
       "2                        [*:1]/C(=C/c1ccc(F)cc1)NC(C)=O          -1.58   \n",
       "3       [*:1]/C(=C/c1ccc(OC(C)=O)c(OC)c1)NC(=O)c1ccccc1           6.09   \n",
       "4       [*:1]/C(=C/c1ccc(OC(C)=O)c(OC)c1)NC(=O)c1ccccc1          18.06   \n",
       "...                                                 ...            ...   \n",
       "827187               [*:1]n1sc2cc([N+](=O)[O-])ccc2c1=O           8.97   \n",
       "827188               [*:1]n1sc2cc([N+](=O)[O-])ccc2c1=O           8.72   \n",
       "827189               [*:1]n1sc2cc([N+](=O)[O-])ccc2c1=O          25.55   \n",
       "827190               [*:1]n1sc2cc([N+](=O)[O-])ccc2c1=O          25.55   \n",
       "827191               [*:1]n1sc2cc([N+](=O)[O-])ccc2c1=O           8.97   \n",
       "\n",
       "        measurement_B  measurement_delta                        LHS  \\\n",
       "0                6.05             -10.47   [*:1]NCCSCc1ccc([*:2])o1   \n",
       "1                2.79              -3.88           [*:1]C(=O)OC(C)C   \n",
       "2                5.93               7.51  [*:1]C(=O)NC(C(=O)O)C(C)C   \n",
       "3               18.06              11.97            [*:1]C(=O)NCC=C   \n",
       "4               13.22              -4.84       [*:1]C(=O)NCc1ccccc1   \n",
       "...               ...                ...                        ...   \n",
       "827187           8.72              -0.25             [*:1]Cc1ccccc1   \n",
       "827188           2.22              -6.50              [*:1]c1ccccc1   \n",
       "827189           8.97             -16.58                     [*:1]C   \n",
       "827190           2.22             -23.33                     [*:1]C   \n",
       "827191           2.22              -6.75             [*:1]Cc1ccccc1   \n",
       "\n",
       "                             RHS  \n",
       "0       [*:1]NCCSCc1csc([*:2])n1  \n",
       "1                  [*:1]C(=O)OCC  \n",
       "2                  [*:1]C(=O)OCC  \n",
       "3           [*:1]C(=O)NCc1ccccc1  \n",
       "4           [*:1]C(=O)Nc1ccccc1C  \n",
       "...                          ...  \n",
       "827187             [*:1]c1ccccc1  \n",
       "827188                  [*:1][H]  \n",
       "827189            [*:1]Cc1ccccc1  \n",
       "827190                  [*:1][H]  \n",
       "827191                  [*:1][H]  \n",
       "\n",
       "[827192 rows x 11 columns]"
      ]
     },
     "execution_count": 6,
     "metadata": {},
     "output_type": "execute_result"
    }
   ],
   "source": [
    "output"
   ]
  },
  {
   "cell_type": "code",
   "execution_count": 7,
   "id": "aae6dcfc-84ec-414e-ac20-9635d3f331e9",
   "metadata": {
    "collapsed": true,
    "jupyter": {
     "outputs_hidden": true
    },
    "tags": []
   },
   "outputs": [
    {
     "ename": "KeyboardInterrupt",
     "evalue": "",
     "output_type": "error",
     "traceback": [
      "\u001b[0;31m---------------------------------------------------------------------------\u001b[0m",
      "\u001b[0;31mKeyboardInterrupt\u001b[0m                         Traceback (most recent call last)",
      "\u001b[0;32m<ipython-input-7-b9cc55b445df>\u001b[0m in \u001b[0;36m<module>\u001b[0;34m\u001b[0m\n\u001b[1;32m      1\u001b[0m \u001b[0;31m# first step is making sure the length of the core is longer (more heavy atoms) than either of the transform hands\u001b[0m\u001b[0;34m\u001b[0m\u001b[0;34m\u001b[0m\u001b[0;34m\u001b[0m\u001b[0m\n\u001b[1;32m      2\u001b[0m \u001b[0;34m\u001b[0m\u001b[0m\n\u001b[0;32m----> 3\u001b[0;31m \u001b[0moutput_len\u001b[0m \u001b[0;34m=\u001b[0m \u001b[0mmaster_functions\u001b[0m\u001b[0;34m.\u001b[0m\u001b[0mclean_mmpa_pairs_len\u001b[0m\u001b[0;34m(\u001b[0m\u001b[0moutput\u001b[0m\u001b[0;34m)\u001b[0m \u001b[0;31m# filter pairs by len LHS & RHS vs CORE\u001b[0m\u001b[0;34m\u001b[0m\u001b[0;34m\u001b[0m\u001b[0m\n\u001b[0m",
      "\u001b[0;32m/cluster/uz_lab/dgurvic/git_projects/efflux_mmpa/ml_mmpa/master_functions.py\u001b[0m in \u001b[0;36mclean_mmpa_pairs_len\u001b[0;34m(mmpa_df)\u001b[0m\n\u001b[1;32m     42\u001b[0m         \u001b[0mmmpa_df\u001b[0m \u001b[0;34m=\u001b[0m \u001b[0mmaster_functions\u001b[0m\u001b[0;34m.\u001b[0m\u001b[0msplit_transition\u001b[0m\u001b[0;34m(\u001b[0m\u001b[0mmmpa_df\u001b[0m\u001b[0;34m,\u001b[0m \u001b[0;34m'smirks'\u001b[0m\u001b[0;34m)\u001b[0m     \u001b[0;31m# produce LHS and RHS\u001b[0m\u001b[0;34m\u001b[0m\u001b[0;34m\u001b[0m\u001b[0m\n\u001b[1;32m     43\u001b[0m     \u001b[0;32melse\u001b[0m\u001b[0;34m:\u001b[0m\u001b[0;34m\u001b[0m\u001b[0;34m\u001b[0m\u001b[0m\n\u001b[0;32m---> 44\u001b[0;31m         \u001b[0mtemp\u001b[0m\u001b[0;34m[\u001b[0m\u001b[0;34m'common_core_HA'\u001b[0m\u001b[0;34m]\u001b[0m \u001b[0;34m=\u001b[0m \u001b[0mmmpa_df\u001b[0m\u001b[0;34m[\u001b[0m\u001b[0;34m'common_core'\u001b[0m\u001b[0;34m]\u001b[0m\u001b[0;34m.\u001b[0m\u001b[0mapply\u001b[0m\u001b[0;34m(\u001b[0m\u001b[0mmols_to_NHA\u001b[0m\u001b[0;34m)\u001b[0m \u001b[0;31m# produce number of heavy atoms\u001b[0m\u001b[0;34m\u001b[0m\u001b[0;34m\u001b[0m\u001b[0m\n\u001b[0m\u001b[1;32m     45\u001b[0m         \u001b[0mtemp\u001b[0m\u001b[0;34m[\u001b[0m\u001b[0;34m'LHS_HA'\u001b[0m\u001b[0;34m]\u001b[0m \u001b[0;34m=\u001b[0m \u001b[0mmmpa_df\u001b[0m\u001b[0;34m[\u001b[0m\u001b[0;34m'LHS'\u001b[0m\u001b[0;34m]\u001b[0m\u001b[0;34m.\u001b[0m\u001b[0mapply\u001b[0m\u001b[0;34m(\u001b[0m\u001b[0mmols_to_NHA\u001b[0m\u001b[0;34m)\u001b[0m\u001b[0;34m\u001b[0m\u001b[0;34m\u001b[0m\u001b[0m\n\u001b[1;32m     46\u001b[0m         \u001b[0mtemp\u001b[0m\u001b[0;34m[\u001b[0m\u001b[0;34m'RHS_HA'\u001b[0m\u001b[0;34m]\u001b[0m \u001b[0;34m=\u001b[0m \u001b[0mmmpa_df\u001b[0m\u001b[0;34m[\u001b[0m\u001b[0;34m'LHS'\u001b[0m\u001b[0;34m]\u001b[0m\u001b[0;34m.\u001b[0m\u001b[0mapply\u001b[0m\u001b[0;34m(\u001b[0m\u001b[0mmols_to_NHA\u001b[0m\u001b[0;34m)\u001b[0m\u001b[0;34m\u001b[0m\u001b[0;34m\u001b[0m\u001b[0m\n",
      "\u001b[0;32m~/software/miniconda3/envs/jupt_test/lib/python3.7/site-packages/pandas/core/series.py\u001b[0m in \u001b[0;36mapply\u001b[0;34m(self, func, convert_dtype, args, **kwds)\u001b[0m\n\u001b[1;32m   4043\u001b[0m             \u001b[0;32melse\u001b[0m\u001b[0;34m:\u001b[0m\u001b[0;34m\u001b[0m\u001b[0;34m\u001b[0m\u001b[0m\n\u001b[1;32m   4044\u001b[0m                 \u001b[0mvalues\u001b[0m \u001b[0;34m=\u001b[0m \u001b[0mself\u001b[0m\u001b[0;34m.\u001b[0m\u001b[0mastype\u001b[0m\u001b[0;34m(\u001b[0m\u001b[0mobject\u001b[0m\u001b[0;34m)\u001b[0m\u001b[0;34m.\u001b[0m\u001b[0mvalues\u001b[0m\u001b[0;34m\u001b[0m\u001b[0;34m\u001b[0m\u001b[0m\n\u001b[0;32m-> 4045\u001b[0;31m                 \u001b[0mmapped\u001b[0m \u001b[0;34m=\u001b[0m \u001b[0mlib\u001b[0m\u001b[0;34m.\u001b[0m\u001b[0mmap_infer\u001b[0m\u001b[0;34m(\u001b[0m\u001b[0mvalues\u001b[0m\u001b[0;34m,\u001b[0m \u001b[0mf\u001b[0m\u001b[0;34m,\u001b[0m \u001b[0mconvert\u001b[0m\u001b[0;34m=\u001b[0m\u001b[0mconvert_dtype\u001b[0m\u001b[0;34m)\u001b[0m\u001b[0;34m\u001b[0m\u001b[0;34m\u001b[0m\u001b[0m\n\u001b[0m\u001b[1;32m   4046\u001b[0m \u001b[0;34m\u001b[0m\u001b[0m\n\u001b[1;32m   4047\u001b[0m         \u001b[0;32mif\u001b[0m \u001b[0mlen\u001b[0m\u001b[0;34m(\u001b[0m\u001b[0mmapped\u001b[0m\u001b[0;34m)\u001b[0m \u001b[0;32mand\u001b[0m \u001b[0misinstance\u001b[0m\u001b[0;34m(\u001b[0m\u001b[0mmapped\u001b[0m\u001b[0;34m[\u001b[0m\u001b[0;36m0\u001b[0m\u001b[0;34m]\u001b[0m\u001b[0;34m,\u001b[0m \u001b[0mSeries\u001b[0m\u001b[0;34m)\u001b[0m\u001b[0;34m:\u001b[0m\u001b[0;34m\u001b[0m\u001b[0;34m\u001b[0m\u001b[0m\n",
      "\u001b[0;32mpandas/_libs/lib.pyx\u001b[0m in \u001b[0;36mpandas._libs.lib.map_infer\u001b[0;34m()\u001b[0m\n",
      "\u001b[0;32m/cluster/uz_lab/dgurvic/git_projects/efflux_mmpa/ml_mmpa/master_functions.py\u001b[0m in \u001b[0;36mmols_to_NHA\u001b[0;34m(x)\u001b[0m\n\u001b[1;32m     35\u001b[0m \u001b[0;34m\u001b[0m\u001b[0m\n\u001b[1;32m     36\u001b[0m \u001b[0;32mdef\u001b[0m \u001b[0mmols_to_NHA\u001b[0m\u001b[0;34m(\u001b[0m\u001b[0mx\u001b[0m\u001b[0;34m)\u001b[0m\u001b[0;34m:\u001b[0m \u001b[0;31m# input mmpa dataframe, grab smarts/smiles output number of heavy atoms\u001b[0m\u001b[0;34m\u001b[0m\u001b[0;34m\u001b[0m\u001b[0m\n\u001b[0;32m---> 37\u001b[0;31m     \u001b[0;32mreturn\u001b[0m \u001b[0mChem\u001b[0m\u001b[0;34m.\u001b[0m\u001b[0mMolFromSmarts\u001b[0m\u001b[0;34m(\u001b[0m\u001b[0mx\u001b[0m\u001b[0;34m)\u001b[0m\u001b[0;34m.\u001b[0m\u001b[0mGetNumHeavyAtoms\u001b[0m\u001b[0;34m(\u001b[0m\u001b[0;34m)\u001b[0m\u001b[0;34m\u001b[0m\u001b[0;34m\u001b[0m\u001b[0m\n\u001b[0m\u001b[1;32m     38\u001b[0m \u001b[0;34m\u001b[0m\u001b[0m\n\u001b[1;32m     39\u001b[0m \u001b[0;32mdef\u001b[0m \u001b[0mclean_mmpa_pairs_len\u001b[0m\u001b[0;34m(\u001b[0m\u001b[0mmmpa_df\u001b[0m\u001b[0;34m)\u001b[0m\u001b[0;34m:\u001b[0m\u001b[0;34m\u001b[0m\u001b[0;34m\u001b[0m\u001b[0m\n",
      "\u001b[0;31mKeyboardInterrupt\u001b[0m: "
     ]
    }
   ],
   "source": [
    "# first step is making sure the length of the core is longer (more heavy atoms) than either of the transform hands\n",
    "\n",
    "output_len = master_functions.clean_mmpa_pairs_len(output) # filter pairs by len LHS & RHS vs CORE"
   ]
  },
  {
   "cell_type": "code",
   "execution_count": null,
   "id": "a051779c-3e50-429c-b990-23388324ed92",
   "metadata": {
    "tags": []
   },
   "outputs": [],
   "source": [
    "'''\n",
    "Second step is finding unique transforms and calculating paired t-test\n",
    "It will produce dataframe with columns: smirks\tdof\tt-stat\tp-val (t-test)\tmeasurement_delta\tstd\tsem\n",
    "Sorted by descending dof\n",
    "\n",
    "At this point both positive and negative transforms are present.\n",
    "'''\n",
    "output_len_stat = master_functions.stat_it_2(output_len)"
   ]
  },
  {
   "cell_type": "code",
   "execution_count": null,
   "id": "57a5d1d7-5191-4421-8abd-d097b07ff8e8",
   "metadata": {
    "tags": []
   },
   "outputs": [],
   "source": [
    "# you should save this file..pickle?\n",
    "\n",
    "output_len_stat.to_pickle(\"out/output_len_stat.pkl\")\n",
    "\n",
    "output_len_stat.head(5)"
   ]
  },
  {
   "cell_type": "code",
   "execution_count": 8,
   "id": "87b7f581-d413-4c05-bf54-0c29d7af1504",
   "metadata": {},
   "outputs": [],
   "source": [
    "output_len_stat = pd.read_pickle(\"out/output_len_stat.pkl\") \n"
   ]
  },
  {
   "cell_type": "code",
   "execution_count": 9,
   "id": "67d692d9-13e3-4219-8a63-6ecb1ab5ccd1",
   "metadata": {},
   "outputs": [
    {
     "name": "stdout",
     "output_type": "stream",
     "text": [
      "Number of unique transforms where p-val < 0.05 is 2836\n",
      "Split between 2836 positive transforms and 0 negative transforms\n"
     ]
    }
   ],
   "source": [
    "'''\n",
    "Third step is filtering p-val based on thresold and deciding weather to keep both positive and negative transforms\n",
    "Output is the significant transforms sorted by measurement delta\n",
    "\n",
    "This is a great output to consider, but we can do one better by turning the transforms into functional groups\n",
    "'''\n",
    "\n",
    "mmpa_zero_pos = master_functions.zero_in(output_len_stat, 0.05, pos_only=True)\n",
    "\n",
    "# Add split columns to the dataframe\n",
    "\n",
    "mmpa_zero_pos = master_functions.split_transition(mmpa_zero_pos, 'smirks')\n"
   ]
  },
  {
   "cell_type": "code",
   "execution_count": 10,
   "id": "cc33b212-790e-4e62-85e5-8373eef24431",
   "metadata": {},
   "outputs": [
    {
     "data": {
      "text/plain": [
       "<matplotlib.axes._subplots.AxesSubplot at 0x2b11fa88a850>"
      ]
     },
     "execution_count": 10,
     "metadata": {},
     "output_type": "execute_result"
    },
    {
     "data": {
      "image/png": "[encoded data removed]",
      "text/plain": [
       "<Figure size 432x288 with 1 Axes>"
      ]
     },
     "metadata": {
      "needs_background": "light"
     },
     "output_type": "display_data"
    }
   ],
   "source": [
    "mmpa_zero_pos.measurement_delta.hist(bins=30)"
   ]
  },
  {
   "cell_type": "code",
   "execution_count": null,
   "id": "9c9ef081-a47b-4fd8-8041-8c0f2ac596c9",
   "metadata": {
    "tags": []
   },
   "outputs": [],
   "source": [
    "mmpa_zero_pos.head(20)"
   ]
  },
  {
   "cell_type": "code",
   "execution_count": null,
   "id": "1d8f63e1-7b77-49ec-83d9-b7d6feb8040c",
   "metadata": {},
   "outputs": [],
   "source": [
    "# features_all_neg, l_feats_neg, r_feats_neg = master_functions.calculate_fractions_mk4(mmpa_zero_pos)\n"
   ]
  },
  {
   "cell_type": "code",
   "execution_count": null,
   "id": "7cfbc590-9b7d-4567-a0de-224b2152b571",
   "metadata": {
    "tags": []
   },
   "outputs": [],
   "source": [
    "# features_all_neg"
   ]
  },
  {
   "cell_type": "code",
   "execution_count": 11,
   "id": "e31e6f54-153a-4c09-a02c-625916a8c23d",
   "metadata": {},
   "outputs": [
    {
     "name": "stderr",
     "output_type": "stream",
     "text": [
      "  0%|          | 5/2836 [00:00<00:57, 48.94it/s]"
     ]
    },
    {
     "name": "stdout",
     "output_type": "stream",
     "text": [
      "/cluster/uz_lab/dgurvic/git_projects/efflux_mmpa\n",
      "Generating molecular objects from pre-defined substructures\n",
      "Calcualting LHS+RHS matches\n"
     ]
    },
    {
     "name": "stderr",
     "output_type": "stream",
     "text": [
      " 64%|██████▍   | 1811/2836 [00:36<00:20, 50.38it/s]RDKit ERROR: [17:27:55] Can't kekulize mol.  Unkekulized atoms: 6 7 8 10\n",
      "RDKit ERROR: \n"
     ]
    },
    {
     "ename": "KekulizeException",
     "evalue": "Can't kekulize mol.  Unkekulized atoms: 6 7 8 10\n",
     "output_type": "error",
     "traceback": [
      "\u001b[0;31m---------------------------------------------------------------------------\u001b[0m",
      "\u001b[0;31mKekulizeException\u001b[0m                         Traceback (most recent call last)",
      "\u001b[0;32m<ipython-input-11-812fcef41bd3>\u001b[0m in \u001b[0;36m<module>\u001b[0;34m\u001b[0m\n\u001b[0;32m----> 1\u001b[0;31m \u001b[0mfeatures_2_all_neg\u001b[0m\u001b[0;34m,\u001b[0m \u001b[0ml_feats_2_neg\u001b[0m\u001b[0;34m,\u001b[0m \u001b[0mr_feats_2_neg\u001b[0m \u001b[0;34m=\u001b[0m \u001b[0mmaster_functions\u001b[0m\u001b[0;34m.\u001b[0m\u001b[0mcalculate_fractions_mk5\u001b[0m\u001b[0;34m(\u001b[0m\u001b[0mmmpa_zero_pos\u001b[0m\u001b[0;34m)\u001b[0m\u001b[0;34m\u001b[0m\u001b[0;34m\u001b[0m\u001b[0m\n\u001b[0m",
      "\u001b[0;32m/cluster/uz_lab/dgurvic/git_projects/efflux_mmpa/ml_mmpa/master_functions.py\u001b[0m in \u001b[0;36mcalculate_fractions_mk5\u001b[0;34m(df)\u001b[0m\n\u001b[1;32m   1098\u001b[0m             \u001b[0mmol_target_right\u001b[0m\u001b[0;34m.\u001b[0m\u001b[0mUpdatePropertyCache\u001b[0m\u001b[0;34m(\u001b[0m\u001b[0;34m)\u001b[0m\u001b[0;34m\u001b[0m\u001b[0;34m\u001b[0m\u001b[0m\n\u001b[1;32m   1099\u001b[0m             \u001b[0mmol_target_right\u001b[0m \u001b[0;34m=\u001b[0m \u001b[0mChem\u001b[0m\u001b[0;34m.\u001b[0m\u001b[0mAddHs\u001b[0m\u001b[0;34m(\u001b[0m\u001b[0mmol_target_right\u001b[0m\u001b[0;34m)\u001b[0m\u001b[0;34m\u001b[0m\u001b[0;34m\u001b[0m\u001b[0m\n\u001b[0;32m-> 1100\u001b[0;31m             \u001b[0mChem\u001b[0m\u001b[0;34m.\u001b[0m\u001b[0mSanitizeMol\u001b[0m\u001b[0;34m(\u001b[0m\u001b[0mmol_target_right\u001b[0m\u001b[0;34m)\u001b[0m\u001b[0;34m\u001b[0m\u001b[0;34m\u001b[0m\u001b[0m\n\u001b[0m\u001b[1;32m   1101\u001b[0m         \u001b[0;32mexcept\u001b[0m \u001b[0mTypeError\u001b[0m\u001b[0;34m:\u001b[0m\u001b[0;34m\u001b[0m\u001b[0;34m\u001b[0m\u001b[0m\n\u001b[1;32m   1102\u001b[0m             \u001b[0mprint\u001b[0m\u001b[0;34m(\u001b[0m\u001b[0;34m'Error: '\u001b[0m\u001b[0;34m,\u001b[0m \u001b[0mindex\u001b[0m\u001b[0;34m,\u001b[0m \u001b[0mtarget\u001b[0m\u001b[0;34m)\u001b[0m\u001b[0;34m\u001b[0m\u001b[0;34m\u001b[0m\u001b[0m\n",
      "\u001b[0;31mKekulizeException\u001b[0m: Can't kekulize mol.  Unkekulized atoms: 6 7 8 10\n"
     ]
    },
    {
     "name": "stderr",
     "output_type": "stream",
     "text": [
      " 64%|██████▍   | 1811/2836 [00:50<00:20, 50.38it/s]"
     ]
    }
   ],
   "source": [
    "features_2_all_neg, l_feats_2_neg, r_feats_2_neg = master_functions.calculate_fractions_mk5(mmpa_zero_pos)\n"
   ]
  },
  {
   "cell_type": "code",
   "execution_count": null,
   "id": "d8f69fe9-148d-489a-9d05-fff76bf482aa",
   "metadata": {},
   "outputs": [],
   "source": [
    "mmpa_zero_pos.iloc[1811]"
   ]
  },
  {
   "cell_type": "code",
   "execution_count": null,
   "id": "59e8bd6c-7d5f-4417-ab08-f05667e91861",
   "metadata": {
    "tags": []
   },
   "outputs": [],
   "source": [
    "features_2_all_neg"
   ]
  },
  {
   "cell_type": "code",
   "execution_count": null,
   "id": "48a0c7a3-53a2-449c-bc99-f2aa7cb3c8ef",
   "metadata": {},
   "outputs": [],
   "source": [
    "# to_drop = ['arene', 'heteroarene', 'alkyne', 'benzene ring', 'amine', 'azaarene', 'alkene', 'aryl halide', 'alkyl halide', 'leaving group', 'alkenyl halide']\n",
    "\n",
    "# features_all_dropped_neg = features_2_all_neg.drop(to_drop, axis = 1)\n",
    "\n",
    "# l_feats_dropped_neg =  l_feats_neg.drop(to_drop, axis = 1)\n",
    "# r_feats_dropped_neg =  r_feats_neg.drop(to_drop, axis = 1)\n",
    "\n",
    "# fractions_to_drop=['fr_ketone_Topliss', 'fr_Al_OH_noTert', 'fr_Ar_N', 'fr_methoxy', 'fr_C_O', 'fr_phenol_noOrthoHbond' ]\n",
    "# fractions above are kept as significant but not looked at on the exchange\n",
    "\n",
    "fr_sig_descriptors_neg = master_functions.find_sig_feats_mk2(l_feats_2_neg, r_feats_2_neg, 0.01)"
   ]
  },
  {
   "cell_type": "code",
   "execution_count": null,
   "id": "4f42d5ca-9bb6-43ef-bb9b-f65b994e34e6",
   "metadata": {},
   "outputs": [],
   "source": [
    "fr_sig_descriptors_neg"
   ]
  },
  {
   "cell_type": "code",
   "execution_count": null,
   "id": "0bda8d5d-40f7-4f6d-90b6-b0bb97de7dad",
   "metadata": {
    "tags": []
   },
   "outputs": [],
   "source": [
    "\n",
    "fractions_to_drop=[]\n",
    "\n",
    "res_neg_neg= master_functions.results_arr(features_2_all_neg, fr_sig_descriptors_neg, r_feats_2_neg, l_feats_2_neg, fractions_to_drop)"
   ]
  },
  {
   "cell_type": "code",
   "execution_count": null,
   "id": "c557e9d2-1521-4d7a-9fff-c2b2c9d3bee7",
   "metadata": {},
   "outputs": [],
   "source": [
    "master_functions.plot_feats(res_neg_neg)"
   ]
  }
 ],
 "metadata": {
  "kernelspec": {
   "display_name": "Python [conda env:miniconda3-jupt_test]",
   "language": "python",
   "name": "conda-env-miniconda3-jupt_test-py"
  },
  "language_info": {
   "codemirror_mode": {
    "name": "ipython",
    "version": 3
   },
   "file_extension": ".py",
   "mimetype": "text/x-python",
   "name": "python",
   "nbconvert_exporter": "python",
   "pygments_lexer": "ipython3",
   "version": "3.7.7"
  }
 },
 "nbformat": 4,
 "nbformat_minor": 5
}
